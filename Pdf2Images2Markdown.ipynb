{
 "cells": [
  {
   "cell_type": "code",
   "execution_count": 39,
   "metadata": {},
   "outputs": [],
   "source": [
    "import pdf2image\n",
    "import os"
   ]
  },
  {
   "cell_type": "code",
   "execution_count": 46,
   "metadata": {},
   "outputs": [],
   "source": [
    "output_folder = '/home/javanegas/Documents/notes/notes-advanced-machine-learning/intro-to-deep-learning/week1'\n",
    "input_folder = '/home/javanegas/Documents/Data Science/Coursera/machine-learning-specialization/intro-deep-learning/week1/w1_2_1_linregr.pdf'\n",
    "markdown_file = '/week1.md'\n",
    "first_image = 12"
   ]
  },
  {
   "cell_type": "code",
   "execution_count": 45,
   "metadata": {},
   "outputs": [],
   "source": [
    "images = pdf2image.convert_from_path(input_folder, output_folder=output_folder,fmt='jpg')"
   ]
  },
  {
   "cell_type": "code",
   "execution_count": 47,
   "metadata": {},
   "outputs": [
    {
     "name": "stdout",
     "output_type": "stream",
     "text": [
      "/home/javanegas/Documents/notes/notes-advanced-machine-learning/intro-to-deep-learning/week1/image_12.jpg\n",
      "/home/javanegas/Documents/notes/notes-advanced-machine-learning/intro-to-deep-learning/week1/image_13.jpg\n",
      "/home/javanegas/Documents/notes/notes-advanced-machine-learning/intro-to-deep-learning/week1/image_14.jpg\n",
      "/home/javanegas/Documents/notes/notes-advanced-machine-learning/intro-to-deep-learning/week1/image_15.jpg\n",
      "/home/javanegas/Documents/notes/notes-advanced-machine-learning/intro-to-deep-learning/week1/image_16.jpg\n",
      "/home/javanegas/Documents/notes/notes-advanced-machine-learning/intro-to-deep-learning/week1/image_17.jpg\n",
      "/home/javanegas/Documents/notes/notes-advanced-machine-learning/intro-to-deep-learning/week1/image_18.jpg\n",
      "/home/javanegas/Documents/notes/notes-advanced-machine-learning/intro-to-deep-learning/week1/image_19.jpg\n",
      "/home/javanegas/Documents/notes/notes-advanced-machine-learning/intro-to-deep-learning/week1/image_20.jpg\n",
      "/home/javanegas/Documents/notes/notes-advanced-machine-learning/intro-to-deep-learning/week1/image_21.jpg\n",
      "/home/javanegas/Documents/notes/notes-advanced-machine-learning/intro-to-deep-learning/week1/image_22.jpg\n",
      "/home/javanegas/Documents/notes/notes-advanced-machine-learning/intro-to-deep-learning/week1/image_23.jpg\n",
      "/home/javanegas/Documents/notes/notes-advanced-machine-learning/intro-to-deep-learning/week1/image_24.jpg\n"
     ]
    }
   ],
   "source": [
    "for image_index, image in enumerate(images):\n",
    "    new_name = output_folder + '/image_' + str(image_index + first_image) + '.jpg'\n",
    "    print(new_name)\n",
    "    os.rename(image.filename, new_name)\n",
    "number_of_images = image_index + 1"
   ]
  },
  {
   "cell_type": "code",
   "execution_count": 48,
   "metadata": {},
   "outputs": [],
   "source": [
    "with open(output_folder + markdown_file, \"a\") as file_object:\n",
    "    for index in range(number_of_images):\n",
    "        file_object.write(\"\\n![](image_\" + str(index + first_image) + '.jpg)\\n')"
   ]
  },
  {
   "cell_type": "code",
   "execution_count": null,
   "metadata": {},
   "outputs": [],
   "source": []
  }
 ],
 "metadata": {
  "kernelspec": {
   "display_name": "Python 3",
   "language": "python",
   "name": "python3"
  },
  "language_info": {
   "codemirror_mode": {
    "name": "ipython",
    "version": 3
   },
   "file_extension": ".py",
   "mimetype": "text/x-python",
   "name": "python",
   "nbconvert_exporter": "python",
   "pygments_lexer": "ipython3",
   "version": "3.6.9"
  }
 },
 "nbformat": 4,
 "nbformat_minor": 4
}
